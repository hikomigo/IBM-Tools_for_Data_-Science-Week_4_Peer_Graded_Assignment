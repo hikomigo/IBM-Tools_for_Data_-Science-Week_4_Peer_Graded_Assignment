{
    "cells": [
        {
            "cell_type": "markdown",
            "metadata": {
                "collapsed": true
            },
            "source": "# My Jupyter Notebook on IBM Watson Studio"
        },
        {
            "cell_type": "markdown",
            "metadata": {},
            "source": "<b> Hikmet Arslanoglu </b> \n\nmodeling "
        },
        {
            "cell_type": "markdown",
            "metadata": {},
            "source": "_Data Science leads us to the future. And I want my place in the future. That is why I am interested in DS._"
        },
        {
            "cell_type": "markdown",
            "metadata": {},
            "source": "### The next cell will calculate how much money I will pay Coursera as tution fee for course  \"data Science\":"
        },
        {
            "cell_type": "code",
            "execution_count": 9,
            "metadata": {
                "scrolled": true
            },
            "outputs": [
                {
                    "name": "stdout",
                    "output_type": "stream",
                    "text": "For Data Science course you will pay in total 152 $.\n"
                }
            ],
            "source": "import math                #importing math for math.ceil() function (rounding up).\nMonthlyFee = 38            # monthly fee in USD\nCourseLength = 11          # course length according to Coursera in month\nMyPace = 3                 # the coefficient which show how much times faster you can pass the course\nTotalFee = math.ceil(CourseLength/MyPace)*MonthlyFee # counting the fee\nprint('For Data Science course you will pay in total',TotalFee,'$.') # output the values."
        },
        {
            "cell_type": "markdown",
            "metadata": {},
            "source": "Because: \n1. There is the chance info is usefull\n2. It is not a lot for 11 months \n\nI think it is fair enough\n***\nT run this code:\n```python\nimport math                #importing math for math.ceil() function (rounding up).\nMonthlyFee = 38            # monthly fee in USD\nCourseLength = 11          # course length according to Coursera in month\nMyPace = 3                 # the coefficient which show how much times faster you can pass the course\nTotalFee = math.ceil(CourseLength/MyPace)*MonthlyFee # counting the fee\nprint('For Data Science course you will pay in total',TotalFee,'$.') # output the values.\n\n```\n\n* So go on\n   \n   `Try it if you can`\n   \n   \n* Here is the link to course: [IBM Data Science Professional Certificate](https://www.coursera.org/professional-certificates/ibm-data-science \"Enroll\")\n \n "
        },
        {
            "cell_type": "code",
            "execution_count": null,
            "metadata": {},
            "outputs": [],
            "source": ""
        }
    ],
    "metadata": {
        "kernelspec": {
            "display_name": "Python 3.6",
            "language": "python",
            "name": "python3"
        },
        "language_info": {
            "codemirror_mode": {
                "name": "ipython",
                "version": 3
            },
            "file_extension": ".py",
            "mimetype": "text/x-python",
            "name": "python",
            "nbconvert_exporter": "python",
            "pygments_lexer": "ipython3",
            "version": "3.6.9"
        }
    },
    "nbformat": 4,
    "nbformat_minor": 1
}
